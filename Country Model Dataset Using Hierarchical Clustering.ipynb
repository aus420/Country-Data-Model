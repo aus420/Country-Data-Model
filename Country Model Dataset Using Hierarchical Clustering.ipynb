{
 "cells": [
  {
   "cell_type": "code",
   "execution_count": 1,
   "id": "c84c78cb",
   "metadata": {},
   "outputs": [],
   "source": [
    "import numpy as np\n",
    "import pandas as pd\n",
    "import matplotlib.pyplot as plt\n",
    "import seaborn as sns\n",
    "import datetime as dt\n",
    "import sklearn\n",
    "from sklearn.preprocessing import StandardScaler\n",
    "from sklearn.cluster import KMeans\n",
    "from sklearn.metrics import silhouette_score\n",
    "from scipy.cluster.hierarchy import linkage\n",
    "from scipy.cluster.hierarchy import dendrogram\n",
    "from scipy.cluster.hierarchy import cut_tree\n",
    "from math import isnan\n",
    "from sklearn.neighbors import NearestNeighbors\n",
    "from random import sample\n",
    "from numpy.random import uniform\n",
    "import warnings"
   ]
  },
  {
   "cell_type": "code",
   "execution_count": 9,
   "id": "679061a6",
   "metadata": {},
   "outputs": [
    {
     "name": "stdout",
     "output_type": "stream",
     "text": [
      "Done\n"
     ]
    }
   ],
   "source": [
    "from zipfile import ZipFile\n",
    "file_name=r\"C:\\Users\\Ab-Don\\Downloads\\Country dataset.zip\"\n",
    "with ZipFile(file_name,'r') as zip:\n",
    "    zip.extractall()\n",
    "    print('Done')"
   ]
  },
  {
   "cell_type": "code",
   "execution_count": 10,
   "id": "0b3bee80",
   "metadata": {},
   "outputs": [],
   "source": [
    "import pandas as pd"
   ]
  },
  {
   "cell_type": "code",
   "execution_count": 11,
   "id": "1bb71300",
   "metadata": {},
   "outputs": [],
   "source": [
    "data1=pd.read_csv('Country-data.csv')"
   ]
  },
  {
   "cell_type": "code",
   "execution_count": 12,
   "id": "b66bf8f4",
   "metadata": {},
   "outputs": [
    {
     "data": {
      "text/html": [
       "<div>\n",
       "<style scoped>\n",
       "    .dataframe tbody tr th:only-of-type {\n",
       "        vertical-align: middle;\n",
       "    }\n",
       "\n",
       "    .dataframe tbody tr th {\n",
       "        vertical-align: top;\n",
       "    }\n",
       "\n",
       "    .dataframe thead th {\n",
       "        text-align: right;\n",
       "    }\n",
       "</style>\n",
       "<table border=\"1\" class=\"dataframe\">\n",
       "  <thead>\n",
       "    <tr style=\"text-align: right;\">\n",
       "      <th></th>\n",
       "      <th>country</th>\n",
       "      <th>child_mort</th>\n",
       "      <th>exports</th>\n",
       "      <th>health</th>\n",
       "      <th>imports</th>\n",
       "      <th>income</th>\n",
       "      <th>inflation</th>\n",
       "      <th>life_expec</th>\n",
       "      <th>total_fer</th>\n",
       "      <th>gdpp</th>\n",
       "    </tr>\n",
       "  </thead>\n",
       "  <tbody>\n",
       "    <tr>\n",
       "      <th>0</th>\n",
       "      <td>Afghanistan</td>\n",
       "      <td>90.2</td>\n",
       "      <td>10.0</td>\n",
       "      <td>7.58</td>\n",
       "      <td>44.9</td>\n",
       "      <td>1610</td>\n",
       "      <td>9.44</td>\n",
       "      <td>56.2</td>\n",
       "      <td>5.82</td>\n",
       "      <td>553</td>\n",
       "    </tr>\n",
       "    <tr>\n",
       "      <th>1</th>\n",
       "      <td>Albania</td>\n",
       "      <td>16.6</td>\n",
       "      <td>28.0</td>\n",
       "      <td>6.55</td>\n",
       "      <td>48.6</td>\n",
       "      <td>9930</td>\n",
       "      <td>4.49</td>\n",
       "      <td>76.3</td>\n",
       "      <td>1.65</td>\n",
       "      <td>4090</td>\n",
       "    </tr>\n",
       "    <tr>\n",
       "      <th>2</th>\n",
       "      <td>Algeria</td>\n",
       "      <td>27.3</td>\n",
       "      <td>38.4</td>\n",
       "      <td>4.17</td>\n",
       "      <td>31.4</td>\n",
       "      <td>12900</td>\n",
       "      <td>16.10</td>\n",
       "      <td>76.5</td>\n",
       "      <td>2.89</td>\n",
       "      <td>4460</td>\n",
       "    </tr>\n",
       "    <tr>\n",
       "      <th>3</th>\n",
       "      <td>Angola</td>\n",
       "      <td>119.0</td>\n",
       "      <td>62.3</td>\n",
       "      <td>2.85</td>\n",
       "      <td>42.9</td>\n",
       "      <td>5900</td>\n",
       "      <td>22.40</td>\n",
       "      <td>60.1</td>\n",
       "      <td>6.16</td>\n",
       "      <td>3530</td>\n",
       "    </tr>\n",
       "    <tr>\n",
       "      <th>4</th>\n",
       "      <td>Antigua and Barbuda</td>\n",
       "      <td>10.3</td>\n",
       "      <td>45.5</td>\n",
       "      <td>6.03</td>\n",
       "      <td>58.9</td>\n",
       "      <td>19100</td>\n",
       "      <td>1.44</td>\n",
       "      <td>76.8</td>\n",
       "      <td>2.13</td>\n",
       "      <td>12200</td>\n",
       "    </tr>\n",
       "  </tbody>\n",
       "</table>\n",
       "</div>"
      ],
      "text/plain": [
       "               country  child_mort  exports  health  imports  income  \\\n",
       "0          Afghanistan        90.2     10.0    7.58     44.9    1610   \n",
       "1              Albania        16.6     28.0    6.55     48.6    9930   \n",
       "2              Algeria        27.3     38.4    4.17     31.4   12900   \n",
       "3               Angola       119.0     62.3    2.85     42.9    5900   \n",
       "4  Antigua and Barbuda        10.3     45.5    6.03     58.9   19100   \n",
       "\n",
       "   inflation  life_expec  total_fer   gdpp  \n",
       "0       9.44        56.2       5.82    553  \n",
       "1       4.49        76.3       1.65   4090  \n",
       "2      16.10        76.5       2.89   4460  \n",
       "3      22.40        60.1       6.16   3530  \n",
       "4       1.44        76.8       2.13  12200  "
      ]
     },
     "execution_count": 12,
     "metadata": {},
     "output_type": "execute_result"
    }
   ],
   "source": [
    "data1.head()"
   ]
  },
  {
   "cell_type": "code",
   "execution_count": 14,
   "id": "2c0895f4",
   "metadata": {},
   "outputs": [
    {
     "name": "stdout",
     "output_type": "stream",
     "text": [
      "<class 'pandas.core.frame.DataFrame'>\n",
      "RangeIndex: 167 entries, 0 to 166\n",
      "Data columns (total 10 columns):\n",
      " #   Column      Non-Null Count  Dtype  \n",
      "---  ------      --------------  -----  \n",
      " 0   country     167 non-null    object \n",
      " 1   child_mort  167 non-null    float64\n",
      " 2   exports     167 non-null    float64\n",
      " 3   health      167 non-null    float64\n",
      " 4   imports     167 non-null    float64\n",
      " 5   income      167 non-null    int64  \n",
      " 6   inflation   167 non-null    float64\n",
      " 7   life_expec  167 non-null    float64\n",
      " 8   total_fer   167 non-null    float64\n",
      " 9   gdpp        167 non-null    int64  \n",
      "dtypes: float64(7), int64(2), object(1)\n",
      "memory usage: 13.2+ KB\n"
     ]
    }
   ],
   "source": [
    "data1.info()"
   ]
  },
  {
   "cell_type": "code",
   "execution_count": 15,
   "id": "d43a8227",
   "metadata": {},
   "outputs": [
    {
     "data": {
      "text/plain": [
       "(167, 10)"
      ]
     },
     "execution_count": 15,
     "metadata": {},
     "output_type": "execute_result"
    }
   ],
   "source": [
    "data1.shape"
   ]
  },
  {
   "cell_type": "code",
   "execution_count": 16,
   "id": "4ab4d63d",
   "metadata": {},
   "outputs": [
    {
     "data": {
      "text/html": [
       "<div>\n",
       "<style scoped>\n",
       "    .dataframe tbody tr th:only-of-type {\n",
       "        vertical-align: middle;\n",
       "    }\n",
       "\n",
       "    .dataframe tbody tr th {\n",
       "        vertical-align: top;\n",
       "    }\n",
       "\n",
       "    .dataframe thead th {\n",
       "        text-align: right;\n",
       "    }\n",
       "</style>\n",
       "<table border=\"1\" class=\"dataframe\">\n",
       "  <thead>\n",
       "    <tr style=\"text-align: right;\">\n",
       "      <th></th>\n",
       "      <th>child_mort</th>\n",
       "      <th>exports</th>\n",
       "      <th>health</th>\n",
       "      <th>imports</th>\n",
       "      <th>income</th>\n",
       "      <th>inflation</th>\n",
       "      <th>life_expec</th>\n",
       "      <th>total_fer</th>\n",
       "      <th>gdpp</th>\n",
       "    </tr>\n",
       "  </thead>\n",
       "  <tbody>\n",
       "    <tr>\n",
       "      <th>count</th>\n",
       "      <td>167.000000</td>\n",
       "      <td>167.000000</td>\n",
       "      <td>167.000000</td>\n",
       "      <td>167.000000</td>\n",
       "      <td>167.000000</td>\n",
       "      <td>167.000000</td>\n",
       "      <td>167.000000</td>\n",
       "      <td>167.000000</td>\n",
       "      <td>167.000000</td>\n",
       "    </tr>\n",
       "    <tr>\n",
       "      <th>mean</th>\n",
       "      <td>38.270060</td>\n",
       "      <td>41.108976</td>\n",
       "      <td>6.815689</td>\n",
       "      <td>46.890215</td>\n",
       "      <td>17144.688623</td>\n",
       "      <td>7.781832</td>\n",
       "      <td>70.555689</td>\n",
       "      <td>2.947964</td>\n",
       "      <td>12964.155689</td>\n",
       "    </tr>\n",
       "    <tr>\n",
       "      <th>std</th>\n",
       "      <td>40.328931</td>\n",
       "      <td>27.412010</td>\n",
       "      <td>2.746837</td>\n",
       "      <td>24.209589</td>\n",
       "      <td>19278.067698</td>\n",
       "      <td>10.570704</td>\n",
       "      <td>8.893172</td>\n",
       "      <td>1.513848</td>\n",
       "      <td>18328.704809</td>\n",
       "    </tr>\n",
       "    <tr>\n",
       "      <th>min</th>\n",
       "      <td>2.600000</td>\n",
       "      <td>0.109000</td>\n",
       "      <td>1.810000</td>\n",
       "      <td>0.065900</td>\n",
       "      <td>609.000000</td>\n",
       "      <td>-4.210000</td>\n",
       "      <td>32.100000</td>\n",
       "      <td>1.150000</td>\n",
       "      <td>231.000000</td>\n",
       "    </tr>\n",
       "    <tr>\n",
       "      <th>25%</th>\n",
       "      <td>8.250000</td>\n",
       "      <td>23.800000</td>\n",
       "      <td>4.920000</td>\n",
       "      <td>30.200000</td>\n",
       "      <td>3355.000000</td>\n",
       "      <td>1.810000</td>\n",
       "      <td>65.300000</td>\n",
       "      <td>1.795000</td>\n",
       "      <td>1330.000000</td>\n",
       "    </tr>\n",
       "    <tr>\n",
       "      <th>50%</th>\n",
       "      <td>19.300000</td>\n",
       "      <td>35.000000</td>\n",
       "      <td>6.320000</td>\n",
       "      <td>43.300000</td>\n",
       "      <td>9960.000000</td>\n",
       "      <td>5.390000</td>\n",
       "      <td>73.100000</td>\n",
       "      <td>2.410000</td>\n",
       "      <td>4660.000000</td>\n",
       "    </tr>\n",
       "    <tr>\n",
       "      <th>75%</th>\n",
       "      <td>62.100000</td>\n",
       "      <td>51.350000</td>\n",
       "      <td>8.600000</td>\n",
       "      <td>58.750000</td>\n",
       "      <td>22800.000000</td>\n",
       "      <td>10.750000</td>\n",
       "      <td>76.800000</td>\n",
       "      <td>3.880000</td>\n",
       "      <td>14050.000000</td>\n",
       "    </tr>\n",
       "    <tr>\n",
       "      <th>max</th>\n",
       "      <td>208.000000</td>\n",
       "      <td>200.000000</td>\n",
       "      <td>17.900000</td>\n",
       "      <td>174.000000</td>\n",
       "      <td>125000.000000</td>\n",
       "      <td>104.000000</td>\n",
       "      <td>82.800000</td>\n",
       "      <td>7.490000</td>\n",
       "      <td>105000.000000</td>\n",
       "    </tr>\n",
       "  </tbody>\n",
       "</table>\n",
       "</div>"
      ],
      "text/plain": [
       "       child_mort     exports      health     imports         income  \\\n",
       "count  167.000000  167.000000  167.000000  167.000000     167.000000   \n",
       "mean    38.270060   41.108976    6.815689   46.890215   17144.688623   \n",
       "std     40.328931   27.412010    2.746837   24.209589   19278.067698   \n",
       "min      2.600000    0.109000    1.810000    0.065900     609.000000   \n",
       "25%      8.250000   23.800000    4.920000   30.200000    3355.000000   \n",
       "50%     19.300000   35.000000    6.320000   43.300000    9960.000000   \n",
       "75%     62.100000   51.350000    8.600000   58.750000   22800.000000   \n",
       "max    208.000000  200.000000   17.900000  174.000000  125000.000000   \n",
       "\n",
       "        inflation  life_expec   total_fer           gdpp  \n",
       "count  167.000000  167.000000  167.000000     167.000000  \n",
       "mean     7.781832   70.555689    2.947964   12964.155689  \n",
       "std     10.570704    8.893172    1.513848   18328.704809  \n",
       "min     -4.210000   32.100000    1.150000     231.000000  \n",
       "25%      1.810000   65.300000    1.795000    1330.000000  \n",
       "50%      5.390000   73.100000    2.410000    4660.000000  \n",
       "75%     10.750000   76.800000    3.880000   14050.000000  \n",
       "max    104.000000   82.800000    7.490000  105000.000000  "
      ]
     },
     "execution_count": 16,
     "metadata": {},
     "output_type": "execute_result"
    }
   ],
   "source": [
    "data1.describe()"
   ]
  },
  {
   "cell_type": "code",
   "execution_count": 17,
   "id": "ddce5ca0",
   "metadata": {},
   "outputs": [
    {
     "data": {
      "text/plain": [
       "country       0\n",
       "child_mort    0\n",
       "exports       0\n",
       "health        0\n",
       "imports       0\n",
       "income        0\n",
       "inflation     0\n",
       "life_expec    0\n",
       "total_fer     0\n",
       "gdpp          0\n",
       "dtype: int64"
      ]
     },
     "execution_count": 17,
     "metadata": {},
     "output_type": "execute_result"
    }
   ],
   "source": [
    "data1.isnull().sum()"
   ]
  },
  {
   "cell_type": "code",
   "execution_count": 19,
   "id": "91968240",
   "metadata": {},
   "outputs": [
    {
     "data": {
      "image/png": "[encoded data removed]",
      "text/plain": [
       "<Figure size 1152x720 with 2 Axes>"
      ]
     },
     "metadata": {
      "needs_background": "light"
     },
     "output_type": "display_data"
    }
   ],
   "source": [
    "plt.figure(figsize=(16,10))\n",
    "sns.heatmap(data1.corr(),annot=True,cmap='Blues')\n",
    "plt.show()"
   ]
  },
  {
   "cell_type": "code",
   "execution_count": 21,
   "id": "655e028a",
   "metadata": {},
   "outputs": [
    {
     "data": {
      "text/plain": [
       "Index(['country', 'child_mort', 'exports', 'health', 'imports', 'income',\n",
       "       'inflation', 'life_expec', 'total_fer', 'gdpp'],\n",
       "      dtype='object')"
      ]
     },
     "execution_count": 21,
     "metadata": {},
     "output_type": "execute_result"
    }
   ],
   "source": [
    "data1.columns"
   ]
  },
  {
   "cell_type": "code",
   "execution_count": 23,
   "id": "6a4f9f4b",
   "metadata": {},
   "outputs": [
    {
     "name": "stderr",
     "output_type": "stream",
     "text": [
      "C:\\Users\\Ab-Don\\anaconda3\\lib\\site-packages\\seaborn\\_decorators.py:36: FutureWarning: Pass the following variable as a keyword arg: x. From version 0.12, the only valid positional argument will be `data`, and passing other arguments without an explicit keyword will result in an error or misinterpretation.\n",
      "  warnings.warn(\n",
      "C:\\Users\\Ab-Don\\anaconda3\\lib\\site-packages\\seaborn\\_decorators.py:36: FutureWarning: Pass the following variable as a keyword arg: x. From version 0.12, the only valid positional argument will be `data`, and passing other arguments without an explicit keyword will result in an error or misinterpretation.\n",
      "  warnings.warn(\n",
      "C:\\Users\\Ab-Don\\anaconda3\\lib\\site-packages\\seaborn\\_decorators.py:36: FutureWarning: Pass the following variable as a keyword arg: x. From version 0.12, the only valid positional argument will be `data`, and passing other arguments without an explicit keyword will result in an error or misinterpretation.\n",
      "  warnings.warn(\n",
      "C:\\Users\\Ab-Don\\anaconda3\\lib\\site-packages\\seaborn\\_decorators.py:36: FutureWarning: Pass the following variable as a keyword arg: x. From version 0.12, the only valid positional argument will be `data`, and passing other arguments without an explicit keyword will result in an error or misinterpretation.\n",
      "  warnings.warn(\n",
      "C:\\Users\\Ab-Don\\anaconda3\\lib\\site-packages\\seaborn\\_decorators.py:36: FutureWarning: Pass the following variable as a keyword arg: x. From version 0.12, the only valid positional argument will be `data`, and passing other arguments without an explicit keyword will result in an error or misinterpretation.\n",
      "  warnings.warn(\n",
      "C:\\Users\\Ab-Don\\anaconda3\\lib\\site-packages\\seaborn\\_decorators.py:36: FutureWarning: Pass the following variable as a keyword arg: x. From version 0.12, the only valid positional argument will be `data`, and passing other arguments without an explicit keyword will result in an error or misinterpretation.\n",
      "  warnings.warn(\n",
      "C:\\Users\\Ab-Don\\anaconda3\\lib\\site-packages\\seaborn\\_decorators.py:36: FutureWarning: Pass the following variable as a keyword arg: x. From version 0.12, the only valid positional argument will be `data`, and passing other arguments without an explicit keyword will result in an error or misinterpretation.\n",
      "  warnings.warn(\n",
      "C:\\Users\\Ab-Don\\anaconda3\\lib\\site-packages\\seaborn\\_decorators.py:36: FutureWarning: Pass the following variable as a keyword arg: x. From version 0.12, the only valid positional argument will be `data`, and passing other arguments without an explicit keyword will result in an error or misinterpretation.\n",
      "  warnings.warn(\n",
      "C:\\Users\\Ab-Don\\anaconda3\\lib\\site-packages\\seaborn\\_decorators.py:36: FutureWarning: Pass the following variable as a keyword arg: x. From version 0.12, the only valid positional argument will be `data`, and passing other arguments without an explicit keyword will result in an error or misinterpretation.\n",
      "  warnings.warn(\n"
     ]
    },
    {
     "data": {
      "image/png": "[encoded data removed]",
      "text/plain": [
       "<Figure size 1440x864 with 9 Axes>"
      ]
     },
     "metadata": {
      "needs_background": "light"
     },
     "output_type": "display_data"
    }
   ],
   "source": [
    "plt.figure(figsize=(20,12))\n",
    "plt.subplot(3,3,1)\n",
    "sns.boxplot(data1.child_mort)\n",
    "plt.subplot(3,3,2)\n",
    "sns.boxplot(data1.exports)\n",
    "plt.subplot(3,3,3)\n",
    "sns.boxplot(data1.health)\n",
    "plt.subplot(3,3,4)\n",
    "sns.boxplot(data1.imports)\n",
    "plt.subplot(3,3,5)\n",
    "sns.boxplot(data1.income)\n",
    "plt.subplot(3,3,6)\n",
    "sns.boxplot(data1.inflation)\n",
    "plt.subplot(3,3,7)\n",
    "sns.boxplot(data1.life_expec)\n",
    "plt.subplot(3,3,8)\n",
    "sns.boxplot(data1.total_fer)\n",
    "plt.subplot(3,3,9)\n",
    "sns.boxplot(data1.gdpp)\n",
    "plt.show()"
   ]
  },
  {
   "cell_type": "code",
   "execution_count": 25,
   "id": "f22961eb",
   "metadata": {},
   "outputs": [
    {
     "data": {
      "text/plain": [
       "count       167.000000\n",
       "mean      12964.155689\n",
       "std       18328.704809\n",
       "min         231.000000\n",
       "25%        1330.000000\n",
       "50%        4660.000000\n",
       "75%       14050.000000\n",
       "max      105000.000000\n",
       "Name: gdpp, dtype: float64"
      ]
     },
     "execution_count": 25,
     "metadata": {},
     "output_type": "execute_result"
    }
   ],
   "source": [
    "data1.gdpp.describe()"
   ]
  },
  {
   "cell_type": "code",
   "execution_count": 27,
   "id": "73769a5a",
   "metadata": {},
   "outputs": [
    {
     "data": {
      "text/plain": [
       "['country',\n",
       " 'child_mort',\n",
       " 'exports',\n",
       " 'health',\n",
       " 'imports',\n",
       " 'income',\n",
       " 'inflation',\n",
       " 'life_expec',\n",
       " 'total_fer',\n",
       " 'gdpp']"
      ]
     },
     "execution_count": 27,
     "metadata": {},
     "output_type": "execute_result"
    }
   ],
   "source": [
    "l1=list(data1.columns)\n",
    "l1"
   ]
  },
  {
   "cell_type": "code",
   "execution_count": 28,
   "id": "9ba09a85",
   "metadata": {},
   "outputs": [],
   "source": [
    "l1.remove('country')"
   ]
  },
  {
   "cell_type": "code",
   "execution_count": 29,
   "id": "2e5e805b",
   "metadata": {},
   "outputs": [],
   "source": [
    "rfm_df=data1[l1]\n",
    "scaler=StandardScaler()"
   ]
  },
  {
   "cell_type": "code",
   "execution_count": 30,
   "id": "9dea9a1b",
   "metadata": {},
   "outputs": [
    {
     "data": {
      "text/html": [
       "<div>\n",
       "<style scoped>\n",
       "    .dataframe tbody tr th:only-of-type {\n",
       "        vertical-align: middle;\n",
       "    }\n",
       "\n",
       "    .dataframe tbody tr th {\n",
       "        vertical-align: top;\n",
       "    }\n",
       "\n",
       "    .dataframe thead th {\n",
       "        text-align: right;\n",
       "    }\n",
       "</style>\n",
       "<table border=\"1\" class=\"dataframe\">\n",
       "  <thead>\n",
       "    <tr style=\"text-align: right;\">\n",
       "      <th></th>\n",
       "      <th>child_mort</th>\n",
       "      <th>exports</th>\n",
       "      <th>health</th>\n",
       "      <th>imports</th>\n",
       "      <th>income</th>\n",
       "      <th>inflation</th>\n",
       "      <th>life_expec</th>\n",
       "      <th>total_fer</th>\n",
       "      <th>gdpp</th>\n",
       "    </tr>\n",
       "  </thead>\n",
       "  <tbody>\n",
       "    <tr>\n",
       "      <th>0</th>\n",
       "      <td>90.2</td>\n",
       "      <td>10.0</td>\n",
       "      <td>7.58</td>\n",
       "      <td>44.9</td>\n",
       "      <td>1610</td>\n",
       "      <td>9.44</td>\n",
       "      <td>56.2</td>\n",
       "      <td>5.82</td>\n",
       "      <td>553</td>\n",
       "    </tr>\n",
       "    <tr>\n",
       "      <th>1</th>\n",
       "      <td>16.6</td>\n",
       "      <td>28.0</td>\n",
       "      <td>6.55</td>\n",
       "      <td>48.6</td>\n",
       "      <td>9930</td>\n",
       "      <td>4.49</td>\n",
       "      <td>76.3</td>\n",
       "      <td>1.65</td>\n",
       "      <td>4090</td>\n",
       "    </tr>\n",
       "    <tr>\n",
       "      <th>2</th>\n",
       "      <td>27.3</td>\n",
       "      <td>38.4</td>\n",
       "      <td>4.17</td>\n",
       "      <td>31.4</td>\n",
       "      <td>12900</td>\n",
       "      <td>16.10</td>\n",
       "      <td>76.5</td>\n",
       "      <td>2.89</td>\n",
       "      <td>4460</td>\n",
       "    </tr>\n",
       "    <tr>\n",
       "      <th>3</th>\n",
       "      <td>119.0</td>\n",
       "      <td>62.3</td>\n",
       "      <td>2.85</td>\n",
       "      <td>42.9</td>\n",
       "      <td>5900</td>\n",
       "      <td>22.40</td>\n",
       "      <td>60.1</td>\n",
       "      <td>6.16</td>\n",
       "      <td>3530</td>\n",
       "    </tr>\n",
       "    <tr>\n",
       "      <th>4</th>\n",
       "      <td>10.3</td>\n",
       "      <td>45.5</td>\n",
       "      <td>6.03</td>\n",
       "      <td>58.9</td>\n",
       "      <td>19100</td>\n",
       "      <td>1.44</td>\n",
       "      <td>76.8</td>\n",
       "      <td>2.13</td>\n",
       "      <td>12200</td>\n",
       "    </tr>\n",
       "    <tr>\n",
       "      <th>...</th>\n",
       "      <td>...</td>\n",
       "      <td>...</td>\n",
       "      <td>...</td>\n",
       "      <td>...</td>\n",
       "      <td>...</td>\n",
       "      <td>...</td>\n",
       "      <td>...</td>\n",
       "      <td>...</td>\n",
       "      <td>...</td>\n",
       "    </tr>\n",
       "    <tr>\n",
       "      <th>162</th>\n",
       "      <td>29.2</td>\n",
       "      <td>46.6</td>\n",
       "      <td>5.25</td>\n",
       "      <td>52.7</td>\n",
       "      <td>2950</td>\n",
       "      <td>2.62</td>\n",
       "      <td>63.0</td>\n",
       "      <td>3.50</td>\n",
       "      <td>2970</td>\n",
       "    </tr>\n",
       "    <tr>\n",
       "      <th>163</th>\n",
       "      <td>17.1</td>\n",
       "      <td>28.5</td>\n",
       "      <td>4.91</td>\n",
       "      <td>17.6</td>\n",
       "      <td>16500</td>\n",
       "      <td>45.90</td>\n",
       "      <td>75.4</td>\n",
       "      <td>2.47</td>\n",
       "      <td>13500</td>\n",
       "    </tr>\n",
       "    <tr>\n",
       "      <th>164</th>\n",
       "      <td>23.3</td>\n",
       "      <td>72.0</td>\n",
       "      <td>6.84</td>\n",
       "      <td>80.2</td>\n",
       "      <td>4490</td>\n",
       "      <td>12.10</td>\n",
       "      <td>73.1</td>\n",
       "      <td>1.95</td>\n",
       "      <td>1310</td>\n",
       "    </tr>\n",
       "    <tr>\n",
       "      <th>165</th>\n",
       "      <td>56.3</td>\n",
       "      <td>30.0</td>\n",
       "      <td>5.18</td>\n",
       "      <td>34.4</td>\n",
       "      <td>4480</td>\n",
       "      <td>23.60</td>\n",
       "      <td>67.5</td>\n",
       "      <td>4.67</td>\n",
       "      <td>1310</td>\n",
       "    </tr>\n",
       "    <tr>\n",
       "      <th>166</th>\n",
       "      <td>83.1</td>\n",
       "      <td>37.0</td>\n",
       "      <td>5.89</td>\n",
       "      <td>30.9</td>\n",
       "      <td>3280</td>\n",
       "      <td>14.00</td>\n",
       "      <td>52.0</td>\n",
       "      <td>5.40</td>\n",
       "      <td>1460</td>\n",
       "    </tr>\n",
       "  </tbody>\n",
       "</table>\n",
       "<p>167 rows × 9 columns</p>\n",
       "</div>"
      ],
      "text/plain": [
       "     child_mort  exports  health  imports  income  inflation  life_expec  \\\n",
       "0          90.2     10.0    7.58     44.9    1610       9.44        56.2   \n",
       "1          16.6     28.0    6.55     48.6    9930       4.49        76.3   \n",
       "2          27.3     38.4    4.17     31.4   12900      16.10        76.5   \n",
       "3         119.0     62.3    2.85     42.9    5900      22.40        60.1   \n",
       "4          10.3     45.5    6.03     58.9   19100       1.44        76.8   \n",
       "..          ...      ...     ...      ...     ...        ...         ...   \n",
       "162        29.2     46.6    5.25     52.7    2950       2.62        63.0   \n",
       "163        17.1     28.5    4.91     17.6   16500      45.90        75.4   \n",
       "164        23.3     72.0    6.84     80.2    4490      12.10        73.1   \n",
       "165        56.3     30.0    5.18     34.4    4480      23.60        67.5   \n",
       "166        83.1     37.0    5.89     30.9    3280      14.00        52.0   \n",
       "\n",
       "     total_fer   gdpp  \n",
       "0         5.82    553  \n",
       "1         1.65   4090  \n",
       "2         2.89   4460  \n",
       "3         6.16   3530  \n",
       "4         2.13  12200  \n",
       "..         ...    ...  \n",
       "162       3.50   2970  \n",
       "163       2.47  13500  \n",
       "164       1.95   1310  \n",
       "165       4.67   1310  \n",
       "166       5.40   1460  \n",
       "\n",
       "[167 rows x 9 columns]"
      ]
     },
     "execution_count": 30,
     "metadata": {},
     "output_type": "execute_result"
    }
   ],
   "source": [
    "rfm_df"
   ]
  },
  {
   "cell_type": "code",
   "execution_count": 31,
   "id": "be55d074",
   "metadata": {},
   "outputs": [],
   "source": [
    "rfm_df_scaled=scaler.fit_transform(rfm_df)"
   ]
  },
  {
   "cell_type": "code",
   "execution_count": 32,
   "id": "537d2f29",
   "metadata": {},
   "outputs": [
    {
     "data": {
      "text/plain": [
       "(167, 9)"
      ]
     },
     "execution_count": 32,
     "metadata": {},
     "output_type": "execute_result"
    }
   ],
   "source": [
    "rfm_df_scaled.shape"
   ]
  },
  {
   "cell_type": "code",
   "execution_count": 33,
   "id": "907d7674",
   "metadata": {},
   "outputs": [],
   "source": [
    "rfm_df_scaled=pd.DataFrame(rfm_df_scaled)\n",
    "rfm_df_scaled.columns=l1"
   ]
  },
  {
   "cell_type": "code",
   "execution_count": 34,
   "id": "cd415e4f",
   "metadata": {},
   "outputs": [
    {
     "data": {
      "text/html": [
       "<div>\n",
       "<style scoped>\n",
       "    .dataframe tbody tr th:only-of-type {\n",
       "        vertical-align: middle;\n",
       "    }\n",
       "\n",
       "    .dataframe tbody tr th {\n",
       "        vertical-align: top;\n",
       "    }\n",
       "\n",
       "    .dataframe thead th {\n",
       "        text-align: right;\n",
       "    }\n",
       "</style>\n",
       "<table border=\"1\" class=\"dataframe\">\n",
       "  <thead>\n",
       "    <tr style=\"text-align: right;\">\n",
       "      <th></th>\n",
       "      <th>child_mort</th>\n",
       "      <th>exports</th>\n",
       "      <th>health</th>\n",
       "      <th>imports</th>\n",
       "      <th>income</th>\n",
       "      <th>inflation</th>\n",
       "      <th>life_expec</th>\n",
       "      <th>total_fer</th>\n",
       "      <th>gdpp</th>\n",
       "    </tr>\n",
       "  </thead>\n",
       "  <tbody>\n",
       "    <tr>\n",
       "      <th>0</th>\n",
       "      <td>1.291532</td>\n",
       "      <td>-1.138280</td>\n",
       "      <td>0.279088</td>\n",
       "      <td>-0.082455</td>\n",
       "      <td>-0.808245</td>\n",
       "      <td>0.157336</td>\n",
       "      <td>-1.619092</td>\n",
       "      <td>1.902882</td>\n",
       "      <td>-0.679180</td>\n",
       "    </tr>\n",
       "    <tr>\n",
       "      <th>1</th>\n",
       "      <td>-0.538949</td>\n",
       "      <td>-0.479658</td>\n",
       "      <td>-0.097016</td>\n",
       "      <td>0.070837</td>\n",
       "      <td>-0.375369</td>\n",
       "      <td>-0.312347</td>\n",
       "      <td>0.647866</td>\n",
       "      <td>-0.859973</td>\n",
       "      <td>-0.485623</td>\n",
       "    </tr>\n",
       "    <tr>\n",
       "      <th>2</th>\n",
       "      <td>-0.272833</td>\n",
       "      <td>-0.099122</td>\n",
       "      <td>-0.966073</td>\n",
       "      <td>-0.641762</td>\n",
       "      <td>-0.220844</td>\n",
       "      <td>0.789274</td>\n",
       "      <td>0.670423</td>\n",
       "      <td>-0.038404</td>\n",
       "      <td>-0.465376</td>\n",
       "    </tr>\n",
       "    <tr>\n",
       "      <th>3</th>\n",
       "      <td>2.007808</td>\n",
       "      <td>0.775381</td>\n",
       "      <td>-1.448071</td>\n",
       "      <td>-0.165315</td>\n",
       "      <td>-0.585043</td>\n",
       "      <td>1.387054</td>\n",
       "      <td>-1.179234</td>\n",
       "      <td>2.128151</td>\n",
       "      <td>-0.516268</td>\n",
       "    </tr>\n",
       "    <tr>\n",
       "      <th>4</th>\n",
       "      <td>-0.695634</td>\n",
       "      <td>0.160668</td>\n",
       "      <td>-0.286894</td>\n",
       "      <td>0.497568</td>\n",
       "      <td>0.101732</td>\n",
       "      <td>-0.601749</td>\n",
       "      <td>0.704258</td>\n",
       "      <td>-0.541946</td>\n",
       "      <td>-0.041817</td>\n",
       "    </tr>\n",
       "  </tbody>\n",
       "</table>\n",
       "</div>"
      ],
      "text/plain": [
       "   child_mort   exports    health   imports    income  inflation  life_expec  \\\n",
       "0    1.291532 -1.138280  0.279088 -0.082455 -0.808245   0.157336   -1.619092   \n",
       "1   -0.538949 -0.479658 -0.097016  0.070837 -0.375369  -0.312347    0.647866   \n",
       "2   -0.272833 -0.099122 -0.966073 -0.641762 -0.220844   0.789274    0.670423   \n",
       "3    2.007808  0.775381 -1.448071 -0.165315 -0.585043   1.387054   -1.179234   \n",
       "4   -0.695634  0.160668 -0.286894  0.497568  0.101732  -0.601749    0.704258   \n",
       "\n",
       "   total_fer      gdpp  \n",
       "0   1.902882 -0.679180  \n",
       "1  -0.859973 -0.485623  \n",
       "2  -0.038404 -0.465376  \n",
       "3   2.128151 -0.516268  \n",
       "4  -0.541946 -0.041817  "
      ]
     },
     "execution_count": 34,
     "metadata": {},
     "output_type": "execute_result"
    }
   ],
   "source": [
    "rfm_df_scaled.head()"
   ]
  },
  {
   "cell_type": "code",
   "execution_count": 35,
   "id": "d2f1fd87",
   "metadata": {},
   "outputs": [
    {
     "data": {
      "text/plain": [
       "KMeans(n_clusters=4, random_state=50)"
      ]
     },
     "execution_count": 35,
     "metadata": {},
     "output_type": "execute_result"
    }
   ],
   "source": [
    "kmeans=KMeans(n_clusters=4,random_state=50)\n",
    "kmeans.fit(rfm_df_scaled)\n"
   ]
  },
  {
   "cell_type": "code",
   "execution_count": 36,
   "id": "5b5b7e1d",
   "metadata": {},
   "outputs": [
    {
     "data": {
      "text/plain": [
       "array([1, 2, 2, 1, 2, 2, 2, 0, 0, 2, 2, 2, 2, 2, 2, 0, 2, 1, 2, 2, 2, 2,\n",
       "       2, 0, 2, 1, 1, 2, 1, 0, 2, 1, 1, 2, 2, 2, 1, 1, 1, 2, 1, 2, 0, 2,\n",
       "       0, 2, 2, 2, 2, 1, 1, 2, 2, 0, 0, 1, 1, 2, 0, 1, 0, 2, 2, 1, 1, 2,\n",
       "       1, 2, 0, 2, 2, 2, 1, 0, 0, 0, 2, 0, 2, 2, 1, 1, 0, 2, 1, 2, 2, 1,\n",
       "       1, 2, 2, 3, 2, 1, 1, 2, 2, 1, 3, 1, 2, 2, 2, 2, 2, 2, 1, 2, 1, 2,\n",
       "       0, 0, 1, 1, 0, 2, 1, 2, 2, 2, 2, 2, 0, 0, 2, 2, 1, 2, 2, 1, 2, 2,\n",
       "       1, 3, 2, 0, 2, 1, 0, 0, 2, 2, 1, 2, 0, 0, 2, 1, 2, 1, 1, 2, 2, 2,\n",
       "       2, 1, 2, 0, 0, 0, 2, 2, 2, 2, 2, 1, 1])"
      ]
     },
     "execution_count": 36,
     "metadata": {},
     "output_type": "execute_result"
    }
   ],
   "source": [
    "\n",
    "kmeans.labels_"
   ]
  },
  {
   "cell_type": "code",
   "execution_count": 37,
   "id": "10c620d5",
   "metadata": {},
   "outputs": [],
   "source": [
    "ssd=[]\n",
    "range_n_clusters={2,3,4,5,6,7,8}\n",
    "for num_clusters in range_n_clusters:\n",
    "    kmeans=KMeans(n_clusters=num_clusters,max_iter=50)\n",
    "    kmeans.fit(rfm_df_scaled)\n",
    "    ssd.append(kmeans.inertia_)"
   ]
  },
  {
   "cell_type": "code",
   "execution_count": 38,
   "id": "730526a5",
   "metadata": {},
   "outputs": [
    {
     "data": {
      "text/plain": [
       "[<matplotlib.lines.Line2D at 0x2110e736b80>]"
      ]
     },
     "execution_count": 38,
     "metadata": {},
     "output_type": "execute_result"
    },
    {
     "data": {
      "image/png": "[encoded data removed]",
      "text/plain": [
       "<Figure size 432x288 with 1 Axes>"
      ]
     },
     "metadata": {
      "needs_background": "light"
     },
     "output_type": "display_data"
    }
   ],
   "source": [
    "plt.plot(ssd)"
   ]
  },
  {
   "cell_type": "code",
   "execution_count": 39,
   "id": "2541d6b3",
   "metadata": {},
   "outputs": [],
   "source": [
    "range_n_clusters=[2,3,4,5,6,7,8]\n",
    "for num_clusters in range_n_clusters:\n",
    "    kmeans=KMeans(n_clusters=num_clusters,max_iter=50)\n",
    "    kmeans.fit(rfm_df_scaled)\n",
    "    cluster_labels=kmeans.labels_"
   ]
  },
  {
   "cell_type": "code",
   "execution_count": 40,
   "id": "f48c214e",
   "metadata": {},
   "outputs": [],
   "source": [
    "silhouette_avg = silhouette_score(rfm_df_scaled, cluster_labels)"
   ]
  },
  {
   "cell_type": "code",
   "execution_count": 41,
   "id": "ea969c2d",
   "metadata": {},
   "outputs": [
    {
     "data": {
      "text/plain": [
       "0.2425163970573545"
      ]
     },
     "execution_count": 41,
     "metadata": {},
     "output_type": "execute_result"
    }
   ],
   "source": [
    "silhouette_avg"
   ]
  },
  {
   "cell_type": "code",
   "execution_count": 43,
   "id": "937a7d95",
   "metadata": {},
   "outputs": [
    {
     "data": {
      "text/html": [
       "<div>\n",
       "<style scoped>\n",
       "    .dataframe tbody tr th:only-of-type {\n",
       "        vertical-align: middle;\n",
       "    }\n",
       "\n",
       "    .dataframe tbody tr th {\n",
       "        vertical-align: top;\n",
       "    }\n",
       "\n",
       "    .dataframe thead th {\n",
       "        text-align: right;\n",
       "    }\n",
       "</style>\n",
       "<table border=\"1\" class=\"dataframe\">\n",
       "  <thead>\n",
       "    <tr style=\"text-align: right;\">\n",
       "      <th></th>\n",
       "      <th>country</th>\n",
       "      <th>child_mort</th>\n",
       "      <th>exports</th>\n",
       "      <th>health</th>\n",
       "      <th>imports</th>\n",
       "      <th>income</th>\n",
       "      <th>inflation</th>\n",
       "      <th>life_expec</th>\n",
       "      <th>total_fer</th>\n",
       "      <th>gdpp</th>\n",
       "      <th>cluster_id</th>\n",
       "    </tr>\n",
       "  </thead>\n",
       "  <tbody>\n",
       "    <tr>\n",
       "      <th>0</th>\n",
       "      <td>Afghanistan</td>\n",
       "      <td>90.2</td>\n",
       "      <td>10.0</td>\n",
       "      <td>7.58</td>\n",
       "      <td>44.9</td>\n",
       "      <td>1610</td>\n",
       "      <td>9.44</td>\n",
       "      <td>56.2</td>\n",
       "      <td>5.82</td>\n",
       "      <td>553</td>\n",
       "      <td>2</td>\n",
       "    </tr>\n",
       "    <tr>\n",
       "      <th>1</th>\n",
       "      <td>Albania</td>\n",
       "      <td>16.6</td>\n",
       "      <td>28.0</td>\n",
       "      <td>6.55</td>\n",
       "      <td>48.6</td>\n",
       "      <td>9930</td>\n",
       "      <td>4.49</td>\n",
       "      <td>76.3</td>\n",
       "      <td>1.65</td>\n",
       "      <td>4090</td>\n",
       "      <td>4</td>\n",
       "    </tr>\n",
       "    <tr>\n",
       "      <th>2</th>\n",
       "      <td>Algeria</td>\n",
       "      <td>27.3</td>\n",
       "      <td>38.4</td>\n",
       "      <td>4.17</td>\n",
       "      <td>31.4</td>\n",
       "      <td>12900</td>\n",
       "      <td>16.10</td>\n",
       "      <td>76.5</td>\n",
       "      <td>2.89</td>\n",
       "      <td>4460</td>\n",
       "      <td>0</td>\n",
       "    </tr>\n",
       "    <tr>\n",
       "      <th>3</th>\n",
       "      <td>Angola</td>\n",
       "      <td>119.0</td>\n",
       "      <td>62.3</td>\n",
       "      <td>2.85</td>\n",
       "      <td>42.9</td>\n",
       "      <td>5900</td>\n",
       "      <td>22.40</td>\n",
       "      <td>60.1</td>\n",
       "      <td>6.16</td>\n",
       "      <td>3530</td>\n",
       "      <td>2</td>\n",
       "    </tr>\n",
       "    <tr>\n",
       "      <th>4</th>\n",
       "      <td>Antigua and Barbuda</td>\n",
       "      <td>10.3</td>\n",
       "      <td>45.5</td>\n",
       "      <td>6.03</td>\n",
       "      <td>58.9</td>\n",
       "      <td>19100</td>\n",
       "      <td>1.44</td>\n",
       "      <td>76.8</td>\n",
       "      <td>2.13</td>\n",
       "      <td>12200</td>\n",
       "      <td>4</td>\n",
       "    </tr>\n",
       "  </tbody>\n",
       "</table>\n",
       "</div>"
      ],
      "text/plain": [
       "               country  child_mort  exports  health  imports  income  \\\n",
       "0          Afghanistan        90.2     10.0    7.58     44.9    1610   \n",
       "1              Albania        16.6     28.0    6.55     48.6    9930   \n",
       "2              Algeria        27.3     38.4    4.17     31.4   12900   \n",
       "3               Angola       119.0     62.3    2.85     42.9    5900   \n",
       "4  Antigua and Barbuda        10.3     45.5    6.03     58.9   19100   \n",
       "\n",
       "   inflation  life_expec  total_fer   gdpp  cluster_id  \n",
       "0       9.44        56.2       5.82    553           2  \n",
       "1       4.49        76.3       1.65   4090           4  \n",
       "2      16.10        76.5       2.89   4460           0  \n",
       "3      22.40        60.1       6.16   3530           2  \n",
       "4       1.44        76.8       2.13  12200           4  "
      ]
     },
     "execution_count": 43,
     "metadata": {},
     "output_type": "execute_result"
    }
   ],
   "source": [
    "data1['cluster_id'] = kmeans.labels_\n",
    "data1.head()\n"
   ]
  },
  {
   "cell_type": "code",
   "execution_count": 45,
   "id": "98dc8806",
   "metadata": {},
   "outputs": [
    {
     "data": {
      "text/plain": [
       "<AxesSubplot:xlabel='cluster_id', ylabel='income'>"
      ]
     },
     "execution_count": 45,
     "metadata": {},
     "output_type": "execute_result"
    },
    {
     "data": {
      "image/png": "[encoded data removed]",
      "text/plain": [
       "<Figure size 432x288 with 1 Axes>"
      ]
     },
     "metadata": {
      "needs_background": "light"
     },
     "output_type": "display_data"
    }
   ],
   "source": [
    "sns.boxplot(x='cluster_id',y='gdpp',data=data1)\n",
    "sns.boxplot(x='cluster_id',y='child_mort',data=data1)\n",
    "sns.boxplot(x='cluster_id',y='income',data=data1)\n",
    " "
   ]
  },
  {
   "cell_type": "code",
   "execution_count": 47,
   "id": "f6491a67",
   "metadata": {},
   "outputs": [
    {
     "data": {
      "text/plain": [
       "<AxesSubplot:xlabel='cluster_id'>"
      ]
     },
     "execution_count": 47,
     "metadata": {},
     "output_type": "execute_result"
    },
    {
     "data": {
      "image/png": "[encoded data removed]",
      "text/plain": [
       "<Figure size 432x288 with 1 Axes>"
      ]
     },
     "metadata": {
      "needs_background": "light"
     },
     "output_type": "display_data"
    }
   ],
   "source": [
    "data1.drop(['country','gdpp','exports','health','imports','income','inflation','life_expec','total_fer'],axis=1).groupby('cluster_id').mean().plot(kind='bar')"
   ]
  },
  {
   "cell_type": "code",
   "execution_count": 49,
   "id": "02bb9fe1",
   "metadata": {},
   "outputs": [
    {
     "data": {
      "text/plain": [
       "<AxesSubplot:xlabel='child_mort', ylabel='income'>"
      ]
     },
     "execution_count": 49,
     "metadata": {},
     "output_type": "execute_result"
    },
    {
     "data": {
      "image/png": "[encoded data removed]",
      "text/plain": [
       "<Figure size 432x288 with 1 Axes>"
      ]
     },
     "metadata": {
      "needs_background": "light"
     },
     "output_type": "display_data"
    }
   ],
   "source": [
    "sns.scatterplot(x='child_mort',y='income',data=data1,hue='cluster_id',palette='Set1')\n",
    "sns.scatterplot(x='gdpp',y='income',data=data1,hue='cluster_id',palette='Set1')"
   ]
  },
  {
   "cell_type": "code",
   "execution_count": 50,
   "id": "35145d39",
   "metadata": {},
   "outputs": [
    {
     "data": {
      "text/html": [
       "<div>\n",
       "<style scoped>\n",
       "    .dataframe tbody tr th:only-of-type {\n",
       "        vertical-align: middle;\n",
       "    }\n",
       "\n",
       "    .dataframe tbody tr th {\n",
       "        vertical-align: top;\n",
       "    }\n",
       "\n",
       "    .dataframe thead th {\n",
       "        text-align: right;\n",
       "    }\n",
       "</style>\n",
       "<table border=\"1\" class=\"dataframe\">\n",
       "  <thead>\n",
       "    <tr style=\"text-align: right;\">\n",
       "      <th></th>\n",
       "      <th>child_mort</th>\n",
       "      <th>exports</th>\n",
       "      <th>health</th>\n",
       "      <th>imports</th>\n",
       "      <th>income</th>\n",
       "      <th>inflation</th>\n",
       "      <th>life_expec</th>\n",
       "      <th>total_fer</th>\n",
       "      <th>gdpp</th>\n",
       "    </tr>\n",
       "  </thead>\n",
       "  <tbody>\n",
       "    <tr>\n",
       "      <th>0</th>\n",
       "      <td>1.291532</td>\n",
       "      <td>-1.138280</td>\n",
       "      <td>0.279088</td>\n",
       "      <td>-0.082455</td>\n",
       "      <td>-0.808245</td>\n",
       "      <td>0.157336</td>\n",
       "      <td>-1.619092</td>\n",
       "      <td>1.902882</td>\n",
       "      <td>-0.679180</td>\n",
       "    </tr>\n",
       "    <tr>\n",
       "      <th>1</th>\n",
       "      <td>-0.538949</td>\n",
       "      <td>-0.479658</td>\n",
       "      <td>-0.097016</td>\n",
       "      <td>0.070837</td>\n",
       "      <td>-0.375369</td>\n",
       "      <td>-0.312347</td>\n",
       "      <td>0.647866</td>\n",
       "      <td>-0.859973</td>\n",
       "      <td>-0.485623</td>\n",
       "    </tr>\n",
       "    <tr>\n",
       "      <th>2</th>\n",
       "      <td>-0.272833</td>\n",
       "      <td>-0.099122</td>\n",
       "      <td>-0.966073</td>\n",
       "      <td>-0.641762</td>\n",
       "      <td>-0.220844</td>\n",
       "      <td>0.789274</td>\n",
       "      <td>0.670423</td>\n",
       "      <td>-0.038404</td>\n",
       "      <td>-0.465376</td>\n",
       "    </tr>\n",
       "    <tr>\n",
       "      <th>3</th>\n",
       "      <td>2.007808</td>\n",
       "      <td>0.775381</td>\n",
       "      <td>-1.448071</td>\n",
       "      <td>-0.165315</td>\n",
       "      <td>-0.585043</td>\n",
       "      <td>1.387054</td>\n",
       "      <td>-1.179234</td>\n",
       "      <td>2.128151</td>\n",
       "      <td>-0.516268</td>\n",
       "    </tr>\n",
       "    <tr>\n",
       "      <th>4</th>\n",
       "      <td>-0.695634</td>\n",
       "      <td>0.160668</td>\n",
       "      <td>-0.286894</td>\n",
       "      <td>0.497568</td>\n",
       "      <td>0.101732</td>\n",
       "      <td>-0.601749</td>\n",
       "      <td>0.704258</td>\n",
       "      <td>-0.541946</td>\n",
       "      <td>-0.041817</td>\n",
       "    </tr>\n",
       "  </tbody>\n",
       "</table>\n",
       "</div>"
      ],
      "text/plain": [
       "   child_mort   exports    health   imports    income  inflation  life_expec  \\\n",
       "0    1.291532 -1.138280  0.279088 -0.082455 -0.808245   0.157336   -1.619092   \n",
       "1   -0.538949 -0.479658 -0.097016  0.070837 -0.375369  -0.312347    0.647866   \n",
       "2   -0.272833 -0.099122 -0.966073 -0.641762 -0.220844   0.789274    0.670423   \n",
       "3    2.007808  0.775381 -1.448071 -0.165315 -0.585043   1.387054   -1.179234   \n",
       "4   -0.695634  0.160668 -0.286894  0.497568  0.101732  -0.601749    0.704258   \n",
       "\n",
       "   total_fer      gdpp  \n",
       "0   1.902882 -0.679180  \n",
       "1  -0.859973 -0.485623  \n",
       "2  -0.038404 -0.465376  \n",
       "3   2.128151 -0.516268  \n",
       "4  -0.541946 -0.041817  "
      ]
     },
     "execution_count": 50,
     "metadata": {},
     "output_type": "execute_result"
    }
   ],
   "source": [
    "rfm_df_scaled.head()"
   ]
  },
  {
   "cell_type": "code",
   "execution_count": 51,
   "id": "5d9e8547",
   "metadata": {},
   "outputs": [
    {
     "data": {
      "image/png": "[encoded data removed]",
      "text/plain": [
       "<Figure size 1440x720 with 1 Axes>"
      ]
     },
     "metadata": {
      "needs_background": "light"
     },
     "output_type": "display_data"
    }
   ],
   "source": [
    "plt.figure(figsize=(20,10))\n",
    "mergings=linkage(rfm_df_scaled,method='single',metric='euclidean')\n",
    "dendrogram(mergings)\n",
    "plt.show()"
   ]
  },
  {
   "cell_type": "code",
   "execution_count": 52,
   "id": "08e7e097",
   "metadata": {},
   "outputs": [
    {
     "data": {
      "image/png": "[encoded data removed]",
      "text/plain": [
       "<Figure size 1440x720 with 1 Axes>"
      ]
     },
     "metadata": {
      "needs_background": "light"
     },
     "output_type": "display_data"
    }
   ],
   "source": [
    "plt.figure(figsize=(20,10))\n",
    "mergings=linkage(rfm_df_scaled,method='complete',metric='euclidean')\n",
    "dendrogram(mergings)\n",
    "plt.show()"
   ]
  },
  {
   "cell_type": "code",
   "execution_count": 53,
   "id": "e441b226",
   "metadata": {},
   "outputs": [
    {
     "data": {
      "text/plain": [
       "array([0, 1, 1, 0, 1, 1, 1, 1, 1, 1, 1, 1, 1, 1, 1, 1, 1, 0, 0, 1, 1, 0,\n",
       "       1, 1, 1, 0, 0, 0, 0, 1, 1, 0, 0, 1, 1, 1, 0, 0, 0, 1, 0, 1, 1, 1,\n",
       "       1, 1, 1, 1, 1, 0, 1, 1, 0, 1, 1, 1, 0, 1, 1, 0, 1, 1, 1, 0, 0, 0,\n",
       "       0, 1, 1, 1, 1, 1, 0, 1, 1, 1, 1, 1, 1, 1, 0, 0, 1, 0, 0, 1, 1, 0,\n",
       "       0, 1, 1, 2, 1, 0, 0, 1, 1, 0, 2, 0, 1, 0, 1, 1, 1, 1, 0, 1, 0, 1,\n",
       "       1, 1, 0, 0, 1, 1, 1, 1, 1, 1, 1, 1, 1, 1, 1, 1, 0, 0, 1, 0, 1, 1,\n",
       "       0, 2, 1, 1, 0, 0, 1, 1, 1, 1, 0, 1, 1, 1, 0, 0, 1, 0, 0, 0, 1, 1,\n",
       "       1, 0, 1, 1, 1, 1, 1, 1, 0, 1, 1, 0, 0])"
      ]
     },
     "execution_count": 53,
     "metadata": {},
     "output_type": "execute_result"
    }
   ],
   "source": [
    "cluster_labels=cut_tree(mergings,n_clusters=3).reshape(-1,)\n",
    "cluster_labels"
   ]
  },
  {
   "cell_type": "code",
   "execution_count": null,
   "id": "1689d315",
   "metadata": {},
   "outputs": [],
   "source": []
  }
 ],
 "metadata": {
  "kernelspec": {
   "display_name": "Python 3 (ipykernel)",
   "language": "python",
   "name": "python3"
  },
  "language_info": {
   "codemirror_mode": {
    "name": "ipython",
    "version": 3
   },
   "file_extension": ".py",
   "mimetype": "text/x-python",
   "name": "python",
   "nbconvert_exporter": "python",
   "pygments_lexer": "ipython3",
   "version": "3.9.7"
  }
 },
 "nbformat": 4,
 "nbformat_minor": 5
}
